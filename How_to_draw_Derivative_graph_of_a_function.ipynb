{
  "nbformat": 4,
  "nbformat_minor": 0,
  "metadata": {
    "colab": {
      "name": "How to draw Derivative graph of a function.ipynb",
      "provenance": [],
      "collapsed_sections": [],
      "toc_visible": true,
      "authorship_tag": "ABX9TyOP84l9jKc2GVmw4aDptkQc",
      "include_colab_link": true
    },
    "kernelspec": {
      "name": "python3",
      "display_name": "Python 3"
    }
  },
  "cells": [
    {
      "cell_type": "markdown",
      "metadata": {
        "id": "view-in-github",
        "colab_type": "text"
      },
      "source": [
        "<a href=\"https://colab.research.google.com/github/isshiki/MLnotebooks/blob/master/How_to_draw_Derivative_graph_of_a_function.ipynb\" target=\"_parent\"><img src=\"https://colab.research.google.com/assets/colab-badge.svg\" alt=\"Open In Colab\"/></a>"
      ]
    },
    {
      "cell_type": "markdown",
      "metadata": {
        "id": "RkxRy0WnwVGP",
        "colab_type": "text"
      },
      "source": [
        "##### Copyright 2020 Masahiko Isshiki - https://blog.masahiko.info/."
      ]
    },
    {
      "cell_type": "code",
      "metadata": {
        "id": "Q13TbBd0wjMV",
        "colab_type": "code",
        "colab": {}
      },
      "source": [
        "#@title Licensed under the Apache License, Version 2.0 (the \"License\");\n",
        "# you may not use this file except in compliance with the License.\n",
        "# You may obtain a copy of the License at\n",
        "#\n",
        "# https://www.apache.org/licenses/LICENSE-2.0\n",
        "#\n",
        "# Unless required by applicable law or agreed to in writing, software\n",
        "# distributed under the License is distributed on an \"AS IS\" BASIS,\n",
        "# WITHOUT WARRANTIES OR CONDITIONS OF ANY KIND, either express or implied.\n",
        "# See the License for the specific language governing permissions and\n",
        "# limitations under the License."
      ],
      "execution_count": 0,
      "outputs": []
    },
    {
      "cell_type": "markdown",
      "metadata": {
        "id": "qmioFGhux6uZ",
        "colab_type": "text"
      },
      "source": [
        "# 「活性化関数の『導関数』の出力グラフをPythonで描画する方法」"
      ]
    },
    {
      "cell_type": "markdown",
      "metadata": {
        "id": "obhOyKSewVCj",
        "colab_type": "text"
      },
      "source": [
        "## ■準備"
      ]
    },
    {
      "cell_type": "markdown",
      "metadata": {
        "id": "vyKG2UfDxRHg",
        "colab_type": "text"
      },
      "source": [
        "### ●Pythonバージョン：3.x"
      ]
    },
    {
      "cell_type": "code",
      "metadata": {
        "id": "HmvkteB7wITi",
        "colab_type": "code",
        "outputId": "e477dfa6-76e3-40a4-d347-aa1c8f2e3e3b",
        "colab": {
          "base_uri": "https://localhost:8080/",
          "height": 51
        }
      },
      "source": [
        "import sys\n",
        "print('Python', sys.version)\n",
        "# Python 3.6.9 (default, Nov  7 2019, 10:44:02)  …… などと表示される"
      ],
      "execution_count": 0,
      "outputs": [
        {
          "output_type": "stream",
          "text": [
            "Python 3.6.9 (default, Nov  7 2019, 10:44:02) \n",
            "[GCC 8.3.0]\n"
          ],
          "name": "stdout"
        }
      ]
    },
    {
      "cell_type": "markdown",
      "metadata": {
        "id": "5mYpgfr0x_Hq",
        "colab_type": "text"
      },
      "source": [
        "## ■実装方法"
      ]
    },
    {
      "cell_type": "markdown",
      "metadata": {
        "id": "TMVH2ED_zDoR",
        "colab_type": "text"
      },
      "source": [
        "### ●NumPyを使って0.001間隔で-6～6の数値を生成"
      ]
    },
    {
      "cell_type": "code",
      "metadata": {
        "id": "nF76iGU4y0v4",
        "colab_type": "code",
        "outputId": "140cf743-745b-4d79-8aac-bc64fe06a5ec",
        "colab": {
          "base_uri": "https://localhost:8080/",
          "height": 34
        }
      },
      "source": [
        "import numpy as np\n",
        "\n",
        "xn = np.arange(-6.0, 6.0, 0.001)\n",
        "\n",
        "print(xn)\n",
        "# [-6.    -5.999 -5.998 ...  5.997  5.998  5.999] ……などと表示される"
      ],
      "execution_count": 0,
      "outputs": [
        {
          "output_type": "stream",
          "text": [
            "[-6.    -5.999 -5.998 ...  5.997  5.998  5.999]\n"
          ],
          "name": "stdout"
        }
      ]
    },
    {
      "cell_type": "markdown",
      "metadata": {
        "id": "llmh3xCK0T0d",
        "colab_type": "text"
      },
      "source": [
        "### ●シグモイド関数（ゲイン付き）の定義"
      ]
    },
    {
      "cell_type": "code",
      "metadata": {
        "id": "9W8Ghj-bzPDL",
        "colab_type": "code",
        "outputId": "5d736fdf-11d2-4450-ab07-cbf39c196748",
        "colab": {
          "base_uri": "https://localhost:8080/",
          "height": 34
        }
      },
      "source": [
        "def sigmoid(x, a=1):\n",
        "  # a: ゲイン（係数）\n",
        "  return 1.0 / (1.0 + np.exp(-a*x))\n",
        "\n",
        "print(sigmoid(xn))\n",
        "# [0.00247262 0.00247509 0.00247756 ... 0.99751997 0.99752244 0.99752491] ……などと表示される"
      ],
      "execution_count": 0,
      "outputs": [
        {
          "output_type": "stream",
          "text": [
            "[0.00247262 0.00247509 0.00247756 ... 0.99751997 0.99752244 0.99752491]\n"
          ],
          "name": "stdout"
        }
      ]
    },
    {
      "cell_type": "markdown",
      "metadata": {
        "id": "eX-9QA8g0d92",
        "colab_type": "text"
      },
      "source": [
        "### ●シグモイド関数のグラフを描画"
      ]
    },
    {
      "cell_type": "code",
      "metadata": {
        "id": "tNgWOwD-0Nno",
        "colab_type": "code",
        "outputId": "cb98d47e-2453-4591-bd5a-ada15a0fd87f",
        "colab": {
          "base_uri": "https://localhost:8080/",
          "height": 269
        }
      },
      "source": [
        "import matplotlib.pyplot as plt\n",
        "plt.plot(xn, sigmoid(xn), label = \"Sigmoid(a=1)\")\n",
        "plt.plot(xn, sigmoid(xn, 2), label = \" (a=2)\")\n",
        "plt.plot(xn, sigmoid(xn, 10), label = \" (a=10)\")\n",
        "plt.plot(xn, sigmoid(xn, 100), label = \" (a=100)\")\n",
        "plt.xlim(-6, 6)\n",
        "plt.ylim(-0.2, 1.2)\n",
        "plt.grid()\n",
        "plt.legend()\n",
        "plt.show()"
      ],
      "execution_count": 0,
      "outputs": [
        {
          "output_type": "display_data",
          "data": {
            "image/png": "[encoded data removed]",
            "text/plain": [
              "<Figure size 432x288 with 1 Axes>"
            ]
          },
          "metadata": {
            "tags": []
          }
        }
      ]
    },
    {
      "cell_type": "markdown",
      "metadata": {
        "id": "jS-FItpy0pIL",
        "colab_type": "text"
      },
      "source": [
        "### ●シグモイド関数の「導関数」の定義"
      ]
    },
    {
      "cell_type": "code",
      "metadata": {
        "id": "co32NpCZyH-o",
        "colab_type": "code",
        "outputId": "7e32f7fe-485b-4a2e-9efc-72a44e46e597",
        "colab": {
          "base_uri": "https://localhost:8080/",
          "height": 34
        }
      },
      "source": [
        "def der_sigmoid(x, a=1):\n",
        "  # a: ゲイン（係数）\n",
        "  return sigmoid(x, a) * (1.0 - sigmoid(x, a))\n",
        "\n",
        "print(der_sigmoid(xn))\n",
        "# [0.00246651 0.00246896 0.00247142 ... 0.00247388 0.00247142 0.00246896] ……などと表示される"
      ],
      "execution_count": 0,
      "outputs": [
        {
          "output_type": "stream",
          "text": [
            "[0.00246651 0.00246896 0.00247142 ... 0.00247388 0.00247142 0.00246896]\n"
          ],
          "name": "stdout"
        }
      ]
    },
    {
      "cell_type": "markdown",
      "metadata": {
        "id": "KHvXUgIp0i-9",
        "colab_type": "text"
      },
      "source": [
        "### ●シグモイド関数の「導関数」のグラフを描画"
      ]
    },
    {
      "cell_type": "code",
      "metadata": {
        "id": "bjkOGT1H0mdd",
        "colab_type": "code",
        "outputId": "01b509d3-618d-4e0d-e7d2-6d1675920179",
        "colab": {
          "base_uri": "https://localhost:8080/",
          "height": 269
        }
      },
      "source": [
        "import matplotlib.pyplot as plt\n",
        "plt.plot(xn, der_sigmoid(xn), label = \"Derivative of Sigmoid(a=1)\")\n",
        "plt.plot(xn, der_sigmoid(xn, 2), label = \" (a=2)\")\n",
        "plt.plot(xn, der_sigmoid(xn, 10), label = \" (a=10)\")\n",
        "plt.plot(xn, der_sigmoid(xn, 100), label = \" (a=100)\")\n",
        "plt.xlim(-6, 6)\n",
        "plt.ylim(-0.2, 0.3)\n",
        "plt.grid()\n",
        "plt.legend()\n",
        "plt.show()"
      ],
      "execution_count": 0,
      "outputs": [
        {
          "output_type": "display_data",
          "data": {
            "image/png": "[encoded data removed]",
            "text/plain": [
              "<Figure size 432x288 with 1 Axes>"
            ]
          },
          "metadata": {
            "tags": []
          }
        }
      ]
    },
    {
      "cell_type": "markdown",
      "metadata": {
        "id": "w0AcgUAw1og0",
        "colab_type": "text"
      },
      "source": [
        "# 以上で終わりです。"
      ]
    }
  ]
}