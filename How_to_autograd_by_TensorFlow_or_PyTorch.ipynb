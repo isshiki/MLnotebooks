{
  "nbformat": 4,
  "nbformat_minor": 0,
  "metadata": {
    "colab": {
      "name": "How to autograd by TensorFlow or PyTorch.ipynb",
      "provenance": [],
      "collapsed_sections": [],
      "toc_visible": true,
      "authorship_tag": "ABX9TyOyHRmR75SyqMO84nwV4C+2",
      "include_colab_link": true
    },
    "kernelspec": {
      "name": "python3",
      "display_name": "Python 3"
    }
  },
  "cells": [
    {
      "cell_type": "markdown",
      "metadata": {
        "id": "view-in-github",
        "colab_type": "text"
      },
      "source": [
        "<a href=\"https://colab.research.google.com/github/isshiki/MLnotebooks/blob/master/How_to_autograd_by_TensorFlow_or_PyTorch.ipynb\" target=\"_parent\"><img src=\"https://colab.research.google.com/assets/colab-badge.svg\" alt=\"Open In Colab\"/></a>"
      ]
    },
    {
      "cell_type": "markdown",
      "metadata": {
        "id": "RkxRy0WnwVGP",
        "colab_type": "text"
      },
      "source": [
        "##### Copyright 2020 Masahiko Isshiki - https://blog.masahiko.info/."
      ]
    },
    {
      "cell_type": "code",
      "metadata": {
        "id": "Q13TbBd0wjMV",
        "colab_type": "code",
        "colab": {}
      },
      "source": [
        "#@title Licensed under the Apache License, Version 2.0 (the \"License\");\n",
        "# you may not use this file except in compliance with the License.\n",
        "# You may obtain a copy of the License at\n",
        "#\n",
        "# https://www.apache.org/licenses/LICENSE-2.0\n",
        "#\n",
        "# Unless required by applicable law or agreed to in writing, software\n",
        "# distributed under the License is distributed on an \"AS IS\" BASIS,\n",
        "# WITHOUT WARRANTIES OR CONDITIONS OF ANY KIND, either express or implied.\n",
        "# See the License for the specific language governing permissions and\n",
        "# limitations under the License."
      ],
      "execution_count": 0,
      "outputs": []
    },
    {
      "cell_type": "markdown",
      "metadata": {
        "id": "qmioFGhux6uZ",
        "colab_type": "text"
      },
      "source": [
        "# 「TensorFlowやPyTorchで自動微分して勾配を取得する方法」"
      ]
    },
    {
      "cell_type": "markdown",
      "metadata": {
        "id": "obhOyKSewVCj",
        "colab_type": "text"
      },
      "source": [
        "## ■準備"
      ]
    },
    {
      "cell_type": "markdown",
      "metadata": {
        "id": "vyKG2UfDxRHg",
        "colab_type": "text"
      },
      "source": [
        "### ●Pythonバージョン：3.x"
      ]
    },
    {
      "cell_type": "code",
      "metadata": {
        "id": "HmvkteB7wITi",
        "colab_type": "code",
        "outputId": "3ffe45ea-c596-4b1d-87d5-b34fa40069ad",
        "colab": {
          "base_uri": "https://localhost:8080/",
          "height": 51
        }
      },
      "source": [
        "import sys\n",
        "print('Python', sys.version)\n",
        "# Python 3.6.9 (default, Nov  7 2019, 10:44:02)  …… などと表示される"
      ],
      "execution_count": 0,
      "outputs": [
        {
          "output_type": "stream",
          "text": [
            "Python 3.6.9 (default, Nov  7 2019, 10:44:02) \n",
            "[GCC 8.3.0]\n"
          ],
          "name": "stdout"
        }
      ]
    },
    {
      "cell_type": "markdown",
      "metadata": {
        "id": "G4GUdDKHxbah",
        "colab_type": "text"
      },
      "source": [
        "### ●TensorFlowバージョン"
      ]
    },
    {
      "cell_type": "code",
      "metadata": {
        "id": "mHg2OKuKxkVm",
        "colab_type": "code",
        "outputId": "cc07b8d1-4047-40d1-ba9b-acc42ce49a6d",
        "colab": {
          "base_uri": "https://localhost:8080/",
          "height": 34
        }
      },
      "source": [
        "# Google Colabで最新の2.xを使う場合、2.xに切り替える（Colab専用）\n",
        "%tensorflow_version 2.x"
      ],
      "execution_count": 0,
      "outputs": [
        {
          "output_type": "stream",
          "text": [
            "TensorFlow 2.x selected.\n"
          ],
          "name": "stdout"
        }
      ]
    },
    {
      "cell_type": "code",
      "metadata": {
        "id": "HwkoyieUxfsw",
        "colab_type": "code",
        "outputId": "faa83b68-f3e7-45c9-db83-9c2305bd7e68",
        "colab": {
          "base_uri": "https://localhost:8080/",
          "height": 34
        }
      },
      "source": [
        "import tensorflow as tf\n",
        "print('TensorFlow', tf.__version__)\n",
        "# TensorFlow 2.1.0 ……などと表示される"
      ],
      "execution_count": 0,
      "outputs": [
        {
          "output_type": "stream",
          "text": [
            "TensorFlow 2.1.0\n"
          ],
          "name": "stdout"
        }
      ]
    },
    {
      "cell_type": "markdown",
      "metadata": {
        "id": "s-6CaFtexsTA",
        "colab_type": "text"
      },
      "source": [
        "### ●PyTorchバージョン"
      ]
    },
    {
      "cell_type": "code",
      "metadata": {
        "id": "-HX6bCruxvXs",
        "colab_type": "code",
        "outputId": "10bde244-1936-4e25-e6c5-4d734c7c3dd6",
        "colab": {
          "base_uri": "https://localhost:8080/",
          "height": 34
        }
      },
      "source": [
        "import torch\n",
        "print('PyTorch', torch.__version__)\n",
        "# PyTorch 1.4.0 ……などと表示される"
      ],
      "execution_count": 0,
      "outputs": [
        {
          "output_type": "stream",
          "text": [
            "PyTorch 1.4.0\n"
          ],
          "name": "stdout"
        }
      ]
    },
    {
      "cell_type": "markdown",
      "metadata": {
        "id": "5mYpgfr0x_Hq",
        "colab_type": "text"
      },
      "source": [
        "## ■実装方法"
      ]
    },
    {
      "cell_type": "markdown",
      "metadata": {
        "id": "_sfMlmmSHxCf",
        "colab_type": "text"
      },
      "source": [
        "### ●例として使う計算式"
      ]
    },
    {
      "cell_type": "markdown",
      "metadata": {
        "id": "ar5FUyoDHpuQ",
        "colab_type": "text"
      },
      "source": [
        "  $$\n",
        "  y=2x^3+4x^2+5x+6\n",
        "  $$\n"
      ]
    },
    {
      "cell_type": "markdown",
      "metadata": {
        "id": "YZVaf0jVJg9X",
        "colab_type": "text"
      },
      "source": [
        "#### ○これをPythonの式にすると..."
      ]
    },
    {
      "cell_type": "code",
      "metadata": {
        "id": "kk08U7LDJgKn",
        "colab_type": "code",
        "colab": {}
      },
      "source": [
        "def calc(x):\n",
        "  return (2 * x ** 3) + (4 * x ** 2) + (5 * x) + 6"
      ],
      "execution_count": 0,
      "outputs": []
    },
    {
      "cell_type": "markdown",
      "metadata": {
        "id": "uBogAgIgH-VX",
        "colab_type": "text"
      },
      "source": [
        "### ●微分する導関数の式は..."
      ]
    },
    {
      "cell_type": "markdown",
      "metadata": {
        "id": "eerYioXmIFaX",
        "colab_type": "text"
      },
      "source": [
        "$$\n",
        "\\frac{dy}{dx}=6x^2+8x+5\n",
        "$$"
      ]
    },
    {
      "cell_type": "markdown",
      "metadata": {
        "id": "z9-XU2MFIukF",
        "colab_type": "text"
      },
      "source": [
        "#### ○これをPythonの式にすると..."
      ]
    },
    {
      "cell_type": "code",
      "metadata": {
        "id": "atMViT_QG_nr",
        "colab_type": "code",
        "colab": {}
      },
      "source": [
        "def der_calc(x):\n",
        "  return (6 * x ** 2) + (8 * x) + 5"
      ],
      "execution_count": 0,
      "outputs": []
    },
    {
      "cell_type": "markdown",
      "metadata": {
        "id": "VHiBU7inIflB",
        "colab_type": "text"
      },
      "source": [
        "### ●導関数に$x=0.5$を入力すると..."
      ]
    },
    {
      "cell_type": "markdown",
      "metadata": {
        "id": "fQygP5uII9mf",
        "colab_type": "text"
      },
      "source": [
        "$$\n",
        "\\begin{align}\n",
        "\\frac{dy}{dx}&=6\\times(0.5)^2+8\\times(0.5)+5 \\\\\n",
        "&=(6\\times0.25)+(8\\times0.5)+5 \\\\\n",
        "&=1.5+4+5 \\\\\n",
        "&=10.5\n",
        "\\end{align}\n",
        "$$"
      ]
    },
    {
      "cell_type": "markdown",
      "metadata": {
        "id": "OULtbixOKEuc",
        "colab_type": "text"
      },
      "source": [
        "#### ○Pythonのコードで計算すると..."
      ]
    },
    {
      "cell_type": "code",
      "metadata": {
        "id": "jPyYr8pjJ6Z-",
        "colab_type": "code",
        "outputId": "5080a890-dd81-4381-baed-a1d811b30adb",
        "colab": {
          "base_uri": "https://localhost:8080/",
          "height": 34
        }
      },
      "source": [
        "result = der_calc(0.5)\n",
        "result # 10.5"
      ],
      "execution_count": 0,
      "outputs": [
        {
          "output_type": "execute_result",
          "data": {
            "text/plain": [
              "10.5"
            ]
          },
          "metadata": {
            "tags": []
          },
          "execution_count": 10
        }
      ]
    },
    {
      "cell_type": "markdown",
      "metadata": {
        "id": "zdZBA7evLX56",
        "colab_type": "text"
      },
      "source": [
        "$10.5$が出力される。これと同じことをPyTorchとTensorFlowの自動微分機能を使って行う方法を紹介する。"
      ]
    },
    {
      "cell_type": "markdown",
      "metadata": {
        "id": "llmh3xCK0T0d",
        "colab_type": "text"
      },
      "source": [
        "## ■PyTorch編"
      ]
    },
    {
      "cell_type": "markdown",
      "metadata": {
        "id": "6lDbGFAzLu_w",
        "colab_type": "text"
      },
      "source": [
        "- データをPyTorchテンソル化して、計算式を作る\n",
        "- `backward`メソッドで逆伝播する（自動微分）\n",
        "- データ（テンソル）の`grad`変数で微分係数（＝勾配）を取得できる\n",
        "\n",
        "という流れで書けばよい。具体的には以下の通り。"
      ]
    },
    {
      "cell_type": "code",
      "metadata": {
        "id": "9W8Ghj-bzPDL",
        "colab_type": "code",
        "outputId": "eb39b50b-0686-4b91-a758-cdfcf4270dc4",
        "colab": {
          "base_uri": "https://localhost:8080/",
          "height": 51
        }
      },
      "source": [
        "import torch\n",
        "import torch.nn as nn  # 「ニューラルネットワーク」モジュールの別名定義\n",
        "\n",
        "x = torch.tensor(0.5, requires_grad=True)  # 変数に対して「勾配計算が必要」とマーク\n",
        "y = calc(x)    # 既存の計算式から計算グラフを動的に構築\n",
        "print(y)       # tensor(9.7500, grad_fn=<AddBackward0>) ……などと表示される\n",
        "\n",
        "y.backward()   # 逆伝播の処理として、上記式から微分係数（＝勾配）を計算（自動微分：Autograd）\n",
        "g = x.grad     # 与えられた入力（x）によって計算された勾配の値（grad）を取得\n",
        "print(g)       # tensor(10.5000)  ……などと表示される"
      ],
      "execution_count": 0,
      "outputs": [
        {
          "output_type": "stream",
          "text": [
            "tensor(9.7500, grad_fn=<AddBackward0>)\n",
            "tensor(10.5000)\n"
          ],
          "name": "stdout"
        }
      ]
    },
    {
      "cell_type": "markdown",
      "metadata": {
        "id": "eX-9QA8g0d92",
        "colab_type": "text"
      },
      "source": [
        "### ●グラフを描画"
      ]
    },
    {
      "cell_type": "markdown",
      "metadata": {
        "id": "YHFGGdxIMi45",
        "colab_type": "text"
      },
      "source": [
        "先ほどは単一のスカラーだったので、今度は複数のスカラー値で計算してみる。"
      ]
    },
    {
      "cell_type": "code",
      "metadata": {
        "id": "tNgWOwD-0Nno",
        "colab_type": "code",
        "outputId": "c6e298b9-18de-4d1a-9e35-e733034b1d9b",
        "colab": {
          "base_uri": "https://localhost:8080/",
          "height": 269
        }
      },
      "source": [
        "# PyTorchの微分グラフ\n",
        "import numpy as np\n",
        "import matplotlib.pyplot as plt\n",
        "\n",
        "x = torch.arange(-4.0, 4.0, 0.001, requires_grad=True)\n",
        "y = calc(x)\n",
        "y.backward(gradient=torch.ones_like(y)) # スカラーテンソルの場合は勾配を格納する場所が必要なのでテンソルを仮生成【重要】\n",
        "g = x.grad\n",
        "x_numpy = x.detach().numpy()  # デタッチして（＝追跡しないようにして）からndarray化する\n",
        "g_numpy = g.detach().numpy()\n",
        "plt.plot(x_numpy, g_numpy, label = \"Derivative\")\n",
        "plt.xlim(-4, 4)\n",
        "plt.ylim(-2.0, 30.0)\n",
        "plt.grid()\n",
        "plt.legend()\n",
        "plt.show()"
      ],
      "execution_count": 0,
      "outputs": [
        {
          "output_type": "display_data",
          "data": {
            "image/png": "[encoded data removed]",
            "text/plain": [
              "<Figure size 432x288 with 1 Axes>"
            ]
          },
          "metadata": {
            "tags": []
          }
        }
      ]
    },
    {
      "cell_type": "markdown",
      "metadata": {
        "id": "jS-FItpy0pIL",
        "colab_type": "text"
      },
      "source": [
        "## ■TensorFlow編"
      ]
    },
    {
      "cell_type": "markdown",
      "metadata": {
        "id": "7N6Mago5NsjH",
        "colab_type": "text"
      },
      "source": [
        "- データをTensorテンソル化して、勾配テープ（GradientTape）内で計算式を作る\n",
        "- 勾配テープ（tape）の`gradient`メソッドで逆伝播する（自動微分）\n",
        "- 逆伝播により計算された微分係数（＝勾配）が取得される\n",
        "\n",
        "という流れで書けばよい。具体的には以下の通り。"
      ]
    },
    {
      "cell_type": "code",
      "metadata": {
        "id": "co32NpCZyH-o",
        "colab_type": "code",
        "outputId": "0bebe6c8-f311-425b-a004-0496479c0cb0",
        "colab": {
          "base_uri": "https://localhost:8080/",
          "height": 51
        }
      },
      "source": [
        "import tensorflow as tf\n",
        "import tensorflow.keras.layers as layers  # 「レイヤー」モジュールの別名定義\n",
        "\n",
        "x = tf.Variable(0.5)\n",
        "with tf.GradientTape() as tape:  # 計算式に対して「勾配計算が必要」とマーク\n",
        "  y = calc(x)  # 既存の計算式から計算グラフを動的に構築\n",
        "print(y)       # tf.Tensor(9.75, shape=(), dtype=float32) ……などと表示される\n",
        "\n",
        "g = tape.gradient(y, x)   # 逆伝播の処理として、上記式から微分係数（＝勾配）を計算（自動微分：Autograd）\n",
        "print(g)       # tf.Tensor(10.5, shape=(), dtype=float32)  ……などと表示される"
      ],
      "execution_count": 0,
      "outputs": [
        {
          "output_type": "stream",
          "text": [
            "tf.Tensor(9.75, shape=(), dtype=float32)\n",
            "tf.Tensor(10.5, shape=(), dtype=float32)\n"
          ],
          "name": "stdout"
        }
      ]
    },
    {
      "cell_type": "markdown",
      "metadata": {
        "id": "KHvXUgIp0i-9",
        "colab_type": "text"
      },
      "source": [
        "### ●グラフを描画"
      ]
    },
    {
      "cell_type": "markdown",
      "metadata": {
        "id": "yNmym0y8PpWe",
        "colab_type": "text"
      },
      "source": [
        "先ほどは単一のスカラーだったので、今度は複数のスカラー値で計算してみる。"
      ]
    },
    {
      "cell_type": "code",
      "metadata": {
        "id": "bjkOGT1H0mdd",
        "colab_type": "code",
        "outputId": "c8502fb9-0923-4363-f896-23ec3be9c20d",
        "colab": {
          "base_uri": "https://localhost:8080/",
          "height": 269
        }
      },
      "source": [
        "# TensorFlowの微分グラフ\n",
        "import numpy as np\n",
        "import matplotlib.pyplot as plt\n",
        "\n",
        "x = tf.Variable(tf.range(-4.0, 4.0, 0.001), trainable=True)\n",
        "with tf.GradientTape() as tape:\n",
        "  #tape.watch(x) # tf.constantであえれば x を記録する（手動追跡）\n",
        "  # ↑tf.Variableであれば既に訓練可能な状態（自動追跡）なので不要\n",
        "  y = calc(x)\n",
        "g = tape.gradient(y, x)\n",
        "x_numpy = x.numpy()\n",
        "g_numpy = g.numpy()\n",
        "plt.plot(x_numpy, g_numpy, label = \"Derivative\")\n",
        "plt.xlim(-4, 4)\n",
        "plt.ylim(-2.0, 30.0)\n",
        "plt.grid()\n",
        "plt.legend()\n",
        "plt.show()"
      ],
      "execution_count": 0,
      "outputs": [
        {
          "output_type": "display_data",
          "data": {
            "image/png": "[encoded data removed]",
            "text/plain": [
              "<Figure size 432x288 with 1 Axes>"
            ]
          },
          "metadata": {
            "tags": []
          }
        }
      ]
    },
    {
      "cell_type": "markdown",
      "metadata": {
        "id": "w0AcgUAw1og0",
        "colab_type": "text"
      },
      "source": [
        "# 簡単ですね。以上で終わりです。"
      ]
    }
  ]
}